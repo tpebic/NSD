{
 "cells": [
  {
   "cell_type": "code",
   "execution_count": 1,
   "id": "0afb537d",
   "metadata": {},
   "outputs": [
    {
     "name": "stdout",
     "output_type": "stream",
     "text": [
      "Collecting netmiko\n",
      "  Downloading netmiko-4.2.0-py3-none-any.whl (213 kB)\n",
      "\u001b[2K     \u001b[90m━━━━━━━━━━━━━━━━━━━━━━━━━━━━━━━━━━━━━━━\u001b[0m \u001b[32m213.0/213.0 kB\u001b[0m \u001b[31m1.1 MB/s\u001b[0m eta \u001b[36m0:00:00\u001b[0ma \u001b[36m0:00:01\u001b[0m\n",
      "\u001b[?25hCollecting scp>=0.13.6\n",
      "  Downloading scp-0.14.5-py2.py3-none-any.whl (8.7 kB)\n",
      "Collecting paramiko>=2.9.5\n",
      "  Downloading paramiko-3.1.0-py3-none-any.whl (211 kB)\n",
      "\u001b[2K     \u001b[90m━━━━━━━━━━━━━━━━━━━━━━━━━━━━━━━━━━━━━\u001b[0m \u001b[32m211.2/211.2 kB\u001b[0m \u001b[31m993.5 kB/s\u001b[0m eta \u001b[36m0:00:00\u001b[0ma \u001b[36m0:00:01\u001b[0m\n",
      "\u001b[?25hCollecting textfsm>=1.1.3\n",
      "  Downloading textfsm-1.1.3-py2.py3-none-any.whl (44 kB)\n",
      "\u001b[2K     \u001b[90m━━━━━━━━━━━━━━━━━━━━━━━━━━━━━━━━━━━━━━━━\u001b[0m \u001b[32m44.7/44.7 kB\u001b[0m \u001b[31m1.0 MB/s\u001b[0m eta \u001b[36m0:00:00\u001b[0m\n",
      "\u001b[?25hCollecting pyserial>=3.3\n",
      "  Downloading pyserial-3.5-py2.py3-none-any.whl (90 kB)\n",
      "\u001b[2K     \u001b[90m━━━━━━━━━━━━━━━━━━━━━━━━━━━━━━━━━━━━━━━━\u001b[0m \u001b[32m90.6/90.6 kB\u001b[0m \u001b[31m1.1 MB/s\u001b[0m eta \u001b[36m0:00:00\u001b[0ma \u001b[36m0:00:01\u001b[0m\n",
      "\u001b[?25hRequirement already satisfied: pyyaml>=5.3 in ./anaconda3/lib/python3.10/site-packages (from netmiko) (6.0)\n",
      "Collecting ntc-templates>=2.0.0\n",
      "  Downloading ntc_templates-3.3.0-py3-none-any.whl (372 kB)\n",
      "\u001b[2K     \u001b[90m━━━━━━━━━━━━━━━━━━━━━━━━━━━━━━━━━━━━━━━\u001b[0m \u001b[32m372.6/372.6 kB\u001b[0m \u001b[31m1.3 MB/s\u001b[0m eta \u001b[36m0:00:00\u001b[0ma \u001b[36m0:00:01\u001b[0m\n",
      "\u001b[?25hRequirement already satisfied: bcrypt>=3.2 in ./anaconda3/lib/python3.10/site-packages (from paramiko>=2.9.5->netmiko) (3.2.0)\n",
      "Collecting pynacl>=1.5\n",
      "  Downloading PyNaCl-1.5.0-cp36-abi3-macosx_10_10_universal2.whl (349 kB)\n",
      "\u001b[2K     \u001b[90m━━━━━━━━━━━━━━━━━━━━━━━━━━━━━━━━━━━━━━━\u001b[0m \u001b[32m349.9/349.9 kB\u001b[0m \u001b[31m1.4 MB/s\u001b[0m eta \u001b[36m0:00:00\u001b[0ma \u001b[36m0:00:01\u001b[0m\n",
      "\u001b[?25hRequirement already satisfied: cryptography>=3.3 in ./anaconda3/lib/python3.10/site-packages (from paramiko>=2.9.5->netmiko) (39.0.1)\n",
      "Requirement already satisfied: future in ./anaconda3/lib/python3.10/site-packages (from textfsm>=1.1.3->netmiko) (0.18.3)\n",
      "Requirement already satisfied: six in ./anaconda3/lib/python3.10/site-packages (from textfsm>=1.1.3->netmiko) (1.16.0)\n",
      "Requirement already satisfied: cffi>=1.1 in ./anaconda3/lib/python3.10/site-packages (from bcrypt>=3.2->paramiko>=2.9.5->netmiko) (1.15.1)\n",
      "Requirement already satisfied: pycparser in ./anaconda3/lib/python3.10/site-packages (from cffi>=1.1->bcrypt>=3.2->paramiko>=2.9.5->netmiko) (2.21)\n",
      "Installing collected packages: pyserial, textfsm, pynacl, ntc-templates, paramiko, scp, netmiko\n",
      "Successfully installed netmiko-4.2.0 ntc-templates-3.3.0 paramiko-3.1.0 pynacl-1.5.0 pyserial-3.5 scp-0.14.5 textfsm-1.1.3\n",
      "Note: you may need to restart the kernel to use updated packages.\n"
     ]
    }
   ],
   "source": [
    "pip install netmiko"
   ]
  },
  {
   "cell_type": "code",
   "execution_count": 2,
   "id": "6489eae8",
   "metadata": {},
   "outputs": [],
   "source": [
    "import netmiko"
   ]
  },
  {
   "cell_type": "code",
   "execution_count": null,
   "id": "a35e4c28",
   "metadata": {},
   "outputs": [],
   "source": []
  }
 ],
 "metadata": {
  "kernelspec": {
   "display_name": "Python 3 (ipykernel)",
   "language": "python",
   "name": "python3"
  },
  "language_info": {
   "codemirror_mode": {
    "name": "ipython",
    "version": 3
   },
   "file_extension": ".py",
   "mimetype": "text/x-python",
   "name": "python",
   "nbconvert_exporter": "python",
   "pygments_lexer": "ipython3",
   "version": "3.10.9"
  }
 },
 "nbformat": 4,
 "nbformat_minor": 5
}
