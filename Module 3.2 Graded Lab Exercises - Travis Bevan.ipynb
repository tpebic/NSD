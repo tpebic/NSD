{
 "cells": [
  {
   "cell_type": "code",
   "execution_count": 4,
   "id": "743406f6",
   "metadata": {},
   "outputs": [
    {
     "name": "stdout",
     "output_type": "stream",
     "text": [
      "Step 1: []\n",
      "Step 2: ['John Lennon', 'Paul McCartney', 'George Harrison']\n",
      "Add additional Beatles member: Stu Sutcliffe\n",
      "Add additional Beatles member: Pete Best\n",
      "Add additional Beatles member: \n",
      "Step 3: ['John Lennon', 'Paul McCartney', 'George Harrison', 'Stu Sutcliffe', 'Pete Best']\n",
      "Would you like to remove member? Yes\n",
      "Enter the member’s name or type quit to terminate: Pete Best\n",
      "Enter the member’s name or type quit to terminate: Quit\n",
      "Step 4: ['John Lennon', 'Paul McCartney', 'George Harrison', 'Stu Sutcliffe']\n",
      "But wait! Ringo is not in the list, would like to add Ringo in the list? Yes\n",
      "Step 5: ['Ringo Starr', 'John Lennon', 'Paul McCartney', 'George Harrison', 'Stu Sutcliffe']\n"
     ]
    }
   ],
   "source": [
    "# Step 1\n",
    "beatles = []\n",
    "print(\"Step 1: []\")\n",
    "\n",
    "# Step 2\n",
    "beatles.append(\"John Lennon\")\n",
    "beatles.append(\"Paul McCartney\")\n",
    "beatles.append(\"George Harrison\")\n",
    "\n",
    "print(\"Step 2:\", beatles)\n",
    "\n",
    "# Step 3\n",
    "while True:\n",
    "    band_member = input(\"Add additional Beatles member: \")\n",
    "    if band_member == \"\":\n",
    "        break\n",
    "    beatles.append(band_member)\n",
    "print(\"Step 3:\", beatles)\n",
    "\n",
    "# Step 4\n",
    "remove_band_member = input(\"Would you like to remove member? \")\n",
    "while remove_band_member.lower() == \"yes\":\n",
    "    band_member_name = input(\"Enter the member’s name or type quit to terminate: \")\n",
    "    if band_member_name.lower() == \"quit\":\n",
    "        break\n",
    "    if band_member_name in beatles:\n",
    "        del beatles[beatles.index(band_member_name)]\n",
    "print(\"Step 4:\", beatles)\n",
    "\n",
    "# Step 5\n",
    "add_ringo = input(\"But wait! Ringo is not in the list, would like to add Ringo in the list? \")\n",
    "if add_ringo.lower() == \"yes\":\n",
    "    beatles.insert(0, \"Ringo Starr\")\n",
    "print(\"Step 5:\", beatles)"
   ]
  },
  {
   "cell_type": "code",
   "execution_count": null,
   "id": "cb039c3d",
   "metadata": {},
   "outputs": [],
   "source": []
  }
 ],
 "metadata": {
  "kernelspec": {
   "display_name": "Python 3 (ipykernel)",
   "language": "python",
   "name": "python3"
  },
  "language_info": {
   "codemirror_mode": {
    "name": "ipython",
    "version": 3
   },
   "file_extension": ".py",
   "mimetype": "text/x-python",
   "name": "python",
   "nbconvert_exporter": "python",
   "pygments_lexer": "ipython3",
   "version": "3.10.9"
  }
 },
 "nbformat": 4,
 "nbformat_minor": 5
}
