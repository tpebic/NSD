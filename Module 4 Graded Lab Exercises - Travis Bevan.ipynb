{
 "cells": [
  {
   "cell_type": "code",
   "execution_count": 27,
   "id": "5e914cc3",
   "metadata": {},
   "outputs": [
    {
     "name": "stdout",
     "output_type": "stream",
     "text": [
      "My name is Travis Bevan from myName function.\n",
      "The sum of myAddfunc is: 16.\n",
      "The product of myMulfunc is: 63.\n"
     ]
    }
   ],
   "source": [
    "from myfunction import *\n",
    "\n",
    "myName(\"Travis\", \"Bevan\")\n",
    "myAddfunc(7, 9)\n",
    "myMulfunc(7, 9)"
   ]
  },
  {
   "cell_type": "code",
   "execution_count": null,
   "id": "354b814c",
   "metadata": {},
   "outputs": [],
   "source": []
  }
 ],
 "metadata": {
  "kernelspec": {
   "display_name": "Python 3 (ipykernel)",
   "language": "python",
   "name": "python3"
  },
  "language_info": {
   "codemirror_mode": {
    "name": "ipython",
    "version": 3
   },
   "file_extension": ".py",
   "mimetype": "text/x-python",
   "name": "python",
   "nbconvert_exporter": "python",
   "pygments_lexer": "ipython3",
   "version": "3.10.9"
  }
 },
 "nbformat": 4,
 "nbformat_minor": 5
}
