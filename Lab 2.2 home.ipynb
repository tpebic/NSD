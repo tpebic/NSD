{
 "cells": [
  {
   "cell_type": "code",
   "execution_count": 3,
   "id": "f53e444b",
   "metadata": {},
   "outputs": [],
   "source": [
    "from netmiko import ConnectHandler"
   ]
  },
  {
   "cell_type": "code",
   "execution_count": 8,
   "id": "a3b74911",
   "metadata": {
    "scrolled": true
   },
   "outputs": [
    {
     "ename": "NetmikoTimeoutException",
     "evalue": "TCP connection to device failed.\n\nCommon causes of this problem are:\n1. Incorrect hostname or IP address.\n2. Wrong TCP port.\n3. Intermediate firewall blocking access.\n\nDevice settings: cisco_ios 192.168.56.101:22\n\n",
     "output_type": "error",
     "traceback": [
      "\u001b[0;31m---------------------------------------------------------------------------\u001b[0m",
      "\u001b[0;31mTimeoutError\u001b[0m                              Traceback (most recent call last)",
      "File \u001b[0;32m~/anaconda3/lib/python3.10/site-packages/netmiko/base_connection.py:1104\u001b[0m, in \u001b[0;36mBaseConnection.establish_connection\u001b[0;34m(self, width, height)\u001b[0m\n\u001b[1;32m   1103\u001b[0m \u001b[38;5;28;01mtry\u001b[39;00m:\n\u001b[0;32m-> 1104\u001b[0m     \u001b[38;5;28;43mself\u001b[39;49m\u001b[38;5;241;43m.\u001b[39;49m\u001b[43mremote_conn_pre\u001b[49m\u001b[38;5;241;43m.\u001b[39;49m\u001b[43mconnect\u001b[49m\u001b[43m(\u001b[49m\u001b[38;5;241;43m*\u001b[39;49m\u001b[38;5;241;43m*\u001b[39;49m\u001b[43mssh_connect_params\u001b[49m\u001b[43m)\u001b[49m\n\u001b[1;32m   1105\u001b[0m \u001b[38;5;28;01mexcept\u001b[39;00m socket\u001b[38;5;241m.\u001b[39merror \u001b[38;5;28;01mas\u001b[39;00m conn_error:\n",
      "File \u001b[0;32m~/anaconda3/lib/python3.10/site-packages/paramiko/client.py:365\u001b[0m, in \u001b[0;36mSSHClient.connect\u001b[0;34m(self, hostname, port, username, password, pkey, key_filename, timeout, allow_agent, look_for_keys, compress, sock, gss_auth, gss_kex, gss_deleg_creds, gss_host, banner_timeout, auth_timeout, channel_timeout, gss_trust_dns, passphrase, disabled_algorithms, transport_factory)\u001b[0m\n\u001b[1;32m    364\u001b[0m         \u001b[38;5;28;01mpass\u001b[39;00m\n\u001b[0;32m--> 365\u001b[0m \u001b[43msock\u001b[49m\u001b[38;5;241;43m.\u001b[39;49m\u001b[43mconnect\u001b[49m\u001b[43m(\u001b[49m\u001b[43maddr\u001b[49m\u001b[43m)\u001b[49m\n\u001b[1;32m    366\u001b[0m \u001b[38;5;66;03m# Break out of the loop on success\u001b[39;00m\n",
      "\u001b[0;31mTimeoutError\u001b[0m: timed out",
      "\nDuring handling of the above exception, another exception occurred:\n",
      "\u001b[0;31mNetmikoTimeoutException\u001b[0m                   Traceback (most recent call last)",
      "Cell \u001b[0;32mIn[8], line 1\u001b[0m\n\u001b[0;32m----> 1\u001b[0m sshCli \u001b[38;5;241m=\u001b[39m \u001b[43mConnectHandler\u001b[49m\u001b[43m(\u001b[49m\n\u001b[1;32m      2\u001b[0m \u001b[43m        \u001b[49m\u001b[43mdevice_type\u001b[49m\u001b[38;5;241;43m=\u001b[39;49m\u001b[38;5;124;43m'\u001b[39;49m\u001b[38;5;124;43mcisco_ios\u001b[39;49m\u001b[38;5;124;43m'\u001b[39;49m\u001b[43m,\u001b[49m\n\u001b[1;32m      3\u001b[0m \u001b[43m        \u001b[49m\u001b[43mhost\u001b[49m\u001b[38;5;241;43m=\u001b[39;49m\u001b[38;5;124;43m'\u001b[39;49m\u001b[38;5;124;43m192.168.56.101\u001b[39;49m\u001b[38;5;124;43m'\u001b[39;49m\u001b[43m,\u001b[49m\n\u001b[1;32m      4\u001b[0m \u001b[43m        \u001b[49m\u001b[43mport\u001b[49m\u001b[38;5;241;43m=\u001b[39;49m\u001b[38;5;241;43m22\u001b[39;49m\u001b[43m,\u001b[49m\n\u001b[1;32m      5\u001b[0m \u001b[43m        \u001b[49m\u001b[43musername\u001b[49m\u001b[38;5;241;43m=\u001b[39;49m\u001b[38;5;124;43m'\u001b[39;49m\u001b[38;5;124;43mcisco\u001b[39;49m\u001b[38;5;124;43m'\u001b[39;49m\u001b[43m,\u001b[49m\n\u001b[1;32m      6\u001b[0m \u001b[43m        \u001b[49m\u001b[43mpassword\u001b[49m\u001b[38;5;241;43m=\u001b[39;49m\u001b[38;5;124;43m'\u001b[39;49m\u001b[38;5;124;43mcisco123!\u001b[39;49m\u001b[38;5;124;43m'\u001b[39;49m\u001b[43m,\u001b[49m\n\u001b[1;32m      7\u001b[0m \u001b[43m        \u001b[49m\u001b[43m)\u001b[49m\n\u001b[1;32m      8\u001b[0m output \u001b[38;5;241m=\u001b[39m sshCli\u001b[38;5;241m.\u001b[39msend_command(\u001b[38;5;124m\"\u001b[39m\u001b[38;5;124mshow ip int brief\u001b[39m\u001b[38;5;124m\"\u001b[39m)\n\u001b[1;32m      9\u001b[0m \u001b[38;5;28mprint\u001b[39m(\u001b[38;5;124m\"\u001b[39m\u001b[38;5;124mshow ip int brief:\u001b[39m\u001b[38;5;130;01m\\n\u001b[39;00m\u001b[38;5;124m\"\u001b[39m\u001b[38;5;241m.\u001b[39mformat(output))\n",
      "File \u001b[0;32m~/anaconda3/lib/python3.10/site-packages/netmiko/ssh_dispatcher.py:388\u001b[0m, in \u001b[0;36mConnectHandler\u001b[0;34m(*args, **kwargs)\u001b[0m\n\u001b[1;32m    383\u001b[0m     \u001b[38;5;28;01mraise\u001b[39;00m \u001b[38;5;167;01mValueError\u001b[39;00m(\n\u001b[1;32m    384\u001b[0m         \u001b[38;5;124m\"\u001b[39m\u001b[38;5;124mUnsupported \u001b[39m\u001b[38;5;124m'\u001b[39m\u001b[38;5;124mdevice_type\u001b[39m\u001b[38;5;124m'\u001b[39m\u001b[38;5;124m \u001b[39m\u001b[38;5;124m\"\u001b[39m\n\u001b[1;32m    385\u001b[0m         \u001b[38;5;124m\"\u001b[39m\u001b[38;5;124mcurrently supported platforms are: \u001b[39m\u001b[38;5;132;01m{}\u001b[39;00m\u001b[38;5;124m\"\u001b[39m\u001b[38;5;241m.\u001b[39mformat(msg_str)\n\u001b[1;32m    386\u001b[0m     )\n\u001b[1;32m    387\u001b[0m ConnectionClass \u001b[38;5;241m=\u001b[39m ssh_dispatcher(device_type)\n\u001b[0;32m--> 388\u001b[0m \u001b[38;5;28;01mreturn\u001b[39;00m \u001b[43mConnectionClass\u001b[49m\u001b[43m(\u001b[49m\u001b[38;5;241;43m*\u001b[39;49m\u001b[43margs\u001b[49m\u001b[43m,\u001b[49m\u001b[43m \u001b[49m\u001b[38;5;241;43m*\u001b[39;49m\u001b[38;5;241;43m*\u001b[39;49m\u001b[43mkwargs\u001b[49m\u001b[43m)\u001b[49m\n",
      "File \u001b[0;32m~/anaconda3/lib/python3.10/site-packages/netmiko/base_connection.py:462\u001b[0m, in \u001b[0;36mBaseConnection.__init__\u001b[0;34m(self, ip, host, username, password, secret, port, device_type, verbose, global_delay_factor, global_cmd_verify, use_keys, key_file, pkey, passphrase, disabled_algorithms, disable_sha2_fix, allow_agent, ssh_strict, system_host_keys, alt_host_keys, alt_key_file, ssh_config_file, conn_timeout, auth_timeout, banner_timeout, blocking_timeout, timeout, session_timeout, read_timeout_override, keepalive, default_enter, response_return, serial_settings, fast_cli, _legacy_mode, session_log, session_log_record_writes, session_log_file_mode, allow_auto_change, encoding, sock, auto_connect, delay_factor_compat, disable_lf_normalization)\u001b[0m\n\u001b[1;32m    460\u001b[0m \u001b[38;5;66;03m# Establish the remote connection\u001b[39;00m\n\u001b[1;32m    461\u001b[0m \u001b[38;5;28;01mif\u001b[39;00m auto_connect:\n\u001b[0;32m--> 462\u001b[0m     \u001b[38;5;28;43mself\u001b[39;49m\u001b[38;5;241;43m.\u001b[39;49m\u001b[43m_open\u001b[49m\u001b[43m(\u001b[49m\u001b[43m)\u001b[49m\n",
      "File \u001b[0;32m~/anaconda3/lib/python3.10/site-packages/netmiko/base_connection.py:467\u001b[0m, in \u001b[0;36mBaseConnection._open\u001b[0;34m(self)\u001b[0m\n\u001b[1;32m    465\u001b[0m \u001b[38;5;124;03m\"\"\"Decouple connection creation from __init__ for mocking.\"\"\"\u001b[39;00m\n\u001b[1;32m    466\u001b[0m \u001b[38;5;28mself\u001b[39m\u001b[38;5;241m.\u001b[39m_modify_connection_params()\n\u001b[0;32m--> 467\u001b[0m \u001b[38;5;28;43mself\u001b[39;49m\u001b[38;5;241;43m.\u001b[39;49m\u001b[43mestablish_connection\u001b[49m\u001b[43m(\u001b[49m\u001b[43m)\u001b[49m\n\u001b[1;32m    468\u001b[0m \u001b[38;5;28mself\u001b[39m\u001b[38;5;241m.\u001b[39m_try_session_preparation()\n",
      "File \u001b[0;32m~/anaconda3/lib/python3.10/site-packages/netmiko/base_connection.py:1126\u001b[0m, in \u001b[0;36mBaseConnection.establish_connection\u001b[0;34m(self, width, height)\u001b[0m\n\u001b[1;32m   1120\u001b[0m         msg \u001b[38;5;241m=\u001b[39m (\n\u001b[1;32m   1121\u001b[0m             \u001b[38;5;124mf\u001b[39m\u001b[38;5;124m\"\u001b[39m\u001b[38;5;124mDNS failure--the hostname you provided was not resolvable \u001b[39m\u001b[38;5;124m\"\u001b[39m\n\u001b[1;32m   1122\u001b[0m             \u001b[38;5;124mf\u001b[39m\u001b[38;5;124m\"\u001b[39m\u001b[38;5;124min DNS: \u001b[39m\u001b[38;5;132;01m{\u001b[39;00m\u001b[38;5;28mself\u001b[39m\u001b[38;5;241m.\u001b[39mhost\u001b[38;5;132;01m}\u001b[39;00m\u001b[38;5;124m:\u001b[39m\u001b[38;5;132;01m{\u001b[39;00m\u001b[38;5;28mself\u001b[39m\u001b[38;5;241m.\u001b[39mport\u001b[38;5;132;01m}\u001b[39;00m\u001b[38;5;124m\"\u001b[39m\n\u001b[1;32m   1123\u001b[0m         )\n\u001b[1;32m   1125\u001b[0m     msg \u001b[38;5;241m=\u001b[39m msg\u001b[38;5;241m.\u001b[39mlstrip()\n\u001b[0;32m-> 1126\u001b[0m     \u001b[38;5;28;01mraise\u001b[39;00m NetmikoTimeoutException(msg)\n\u001b[1;32m   1127\u001b[0m \u001b[38;5;28;01mexcept\u001b[39;00m paramiko\u001b[38;5;241m.\u001b[39mssh_exception\u001b[38;5;241m.\u001b[39mAuthenticationException \u001b[38;5;28;01mas\u001b[39;00m auth_err:\n\u001b[1;32m   1128\u001b[0m     \u001b[38;5;28mself\u001b[39m\u001b[38;5;241m.\u001b[39mparamiko_cleanup()\n",
      "\u001b[0;31mNetmikoTimeoutException\u001b[0m: TCP connection to device failed.\n\nCommon causes of this problem are:\n1. Incorrect hostname or IP address.\n2. Wrong TCP port.\n3. Intermediate firewall blocking access.\n\nDevice settings: cisco_ios 192.168.56.101:22\n\n"
     ]
    }
   ],
   "source": [
    "sshCli = ConnectHandler(\n",
    "        device_type='cisco_ios',\n",
    "        host='192.168.56.101',\n",
    "        port=22,\n",
    "        username='cisco',\n",
    "        password='cisco123!',\n",
    "        )\n",
    "output = sshCli.send_command(\"show ip int brief\")\n",
    "print(\"show ip int brief:\\n\".format(output))"
   ]
  },
  {
   "cell_type": "code",
   "execution_count": null,
   "id": "a8276b77",
   "metadata": {},
   "outputs": [],
   "source": []
  }
 ],
 "metadata": {
  "kernelspec": {
   "display_name": "Python 3 (ipykernel)",
   "language": "python",
   "name": "python3"
  },
  "language_info": {
   "codemirror_mode": {
    "name": "ipython",
    "version": 3
   },
   "file_extension": ".py",
   "mimetype": "text/x-python",
   "name": "python",
   "nbconvert_exporter": "python",
   "pygments_lexer": "ipython3",
   "version": "3.10.9"
  }
 },
 "nbformat": 4,
 "nbformat_minor": 5
}
